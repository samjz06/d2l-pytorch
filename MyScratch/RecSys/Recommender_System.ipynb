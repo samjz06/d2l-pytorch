{
 "cells": [
  {
   "cell_type": "markdown",
   "metadata": {},
   "source": [
    "# Recommender System\n",
    "\n",
    "There are numbers of types of Recommender Systems.\n",
    "\n",
    "## Benefits of DL recommender systems\n",
    "There are many different techniques to desin a recommender system, e.g.\n",
    "- Association rules\n",
    "- Content- or Context-based/ Memory- or Model-based\n",
    "- Collaborative filtering\n",
    "- Matrix factorization\n",
    "- training a linear or tree-based model to predict the interaction likelihood\n",
    "\n",
    "### So why Deep Learning?\n",
    "\n",
    "\n",
    "### Architecture of DL based Recommender System\n",
    "#### Basic building block: Embedding layers\n",
    "- Embedding layers represent categories with dense vectors.\n",
    "  - NLP: embed words with dense representation. \n",
    "  - words with similar meaning have a similar embedding vector.\n",
    "- Similarly, the most trivial RS is based on users and items\n",
    "  - User IDS, item IDS. Words are users and items. and build two embedding tables.\n",
    "  - calculate the dot prod between the user and the item embedding to get the likelihood that a user interacts with an item.\n",
    "  - Activation function to transform the output to a probability.\n",
    "  - This is equiv to matrix factorization or alternating least squares(ALS).\n",
    "\n",
    "## Reference\n",
    "https://realpython.com/build-recommendation-engine-collaborative-filtering/\n",
    "https://arxiv.org/pdf/1707.07435.pdf"
   ]
  }
 ],
 "metadata": {
  "interpreter": {
   "hash": "cc1b1c9b257fc8014d968e6a5c17774483cbc9201995df8261e8b19db7e7b46a"
  },
  "kernelspec": {
   "display_name": "Python 3.8.8 64-bit ('base': conda)",
   "language": "python",
   "name": "python3"
  },
  "language_info": {
   "name": "python",
   "version": "3.8.8"
  },
  "orig_nbformat": 4
 },
 "nbformat": 4,
 "nbformat_minor": 2
}
