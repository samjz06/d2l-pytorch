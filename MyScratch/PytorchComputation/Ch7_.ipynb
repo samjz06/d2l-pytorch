{
 "cells": [
  {
   "cell_type": "code",
   "execution_count": 1,
   "metadata": {},
   "outputs": [],
   "source": [
    "import torch\n",
    "import torch.nn"
   ]
  },
  {
   "cell_type": "code",
   "execution_count": 5,
   "metadata": {},
   "outputs": [
    {
     "name": "stdout",
     "output_type": "stream",
     "text": [
      "torch.Size([4, 8]) torch.Size([4, 8])\n",
      "tensor([[-0.5007,  1.2309,  0.0207, -0.1721,  0.8294, -1.7886, -0.6147,  0.3054],\n",
      "        [-0.0746,  1.2627,  0.7283, -0.8117,  0.0057,  0.3597, -0.3628, -0.3535],\n",
      "        [-1.5479, -0.0285, -0.1166, -0.3745, -1.4725,  0.5959,  0.5692,  0.8337],\n",
      "        [ 1.9660, -1.4954, -0.4764,  0.2644,  0.1867,  1.4459,  0.6265, -0.0900]])\n"
     ]
    }
   ],
   "source": [
    "x = torch.randn(4, 8)\n",
    "y = torch.ones_like(x, requires_grad=True)\n",
    "print(x.size(), y.size())\n",
    "print(x.data)\n",
    "\n"
   ]
  },
  {
   "cell_type": "code",
   "execution_count": 6,
   "metadata": {},
   "outputs": [
    {
     "name": "stdout",
     "output_type": "stream",
     "text": [
      "Mon Nov 22 22:39:18 2021       \n",
      "+-----------------------------------------------------------------------------+\n",
      "| NVIDIA-SMI 472.12       Driver Version: 472.12       CUDA Version: 11.4     |\n",
      "|-------------------------------+----------------------+----------------------+\n",
      "| GPU  Name            TCC/WDDM | Bus-Id        Disp.A | Volatile Uncorr. ECC |\n",
      "| Fan  Temp  Perf  Pwr:Usage/Cap|         Memory-Usage | GPU-Util  Compute M. |\n",
      "|                               |                      |               MIG M. |\n",
      "|===============================+======================+======================|\n",
      "|   0  NVIDIA GeForce ... WDDM  | 00000000:1F:00.0  On |                  N/A |\n",
      "|  0%   41C    P8    14W / 180W |   1000MiB /  8192MiB |     24%      Default |\n",
      "|                               |                      |                  N/A |\n",
      "+-------------------------------+----------------------+----------------------+\n",
      "                                                                               \n",
      "+-----------------------------------------------------------------------------+\n",
      "| Processes:                                                                  |\n",
      "|  GPU   GI   CI        PID   Type   Process name                  GPU Memory |\n",
      "|        ID   ID                                                   Usage      |\n",
      "|=============================================================================|\n",
      "|    0   N/A  N/A      1384    C+G   Insufficient Permissions        N/A      |\n",
      "|    0   N/A  N/A      4528    C+G   C:\\Windows\\explorer.exe         N/A      |\n",
      "|    0   N/A  N/A      4584    C+G   ...ekyb3d8bbwe\\YourPhone.exe    N/A      |\n",
      "|    0   N/A  N/A      8228    C+G   ...8wekyb3d8bbwe\\Cortana.exe    N/A      |\n",
      "|    0   N/A  N/A      9708    C+G   ...bbwe\\Microsoft.Photos.exe    N/A      |\n",
      "|    0   N/A  N/A     10116    C+G   ...IR iCUE Software\\iCUE.exe    N/A      |\n",
      "|    0   N/A  N/A     10424    C+G   ...5n1h2txyewy\\SearchApp.exe    N/A      |\n",
      "|    0   N/A  N/A     11156    C+G   ...cw5n1h2txyewy\\LockApp.exe    N/A      |\n",
      "|    0   N/A  N/A     13892    C+G   ...nputApp\\TextInputHost.exe    N/A      |\n",
      "|    0   N/A  N/A     14172    C+G   ...perience\\NVIDIA Share.exe    N/A      |\n",
      "|    0   N/A  N/A     15412    C+G   ...3.0.8.0\\GoogleDriveFS.exe    N/A      |\n",
      "|    0   N/A  N/A     17064    C+G   ...qxf38zg5c\\Skype\\Skype.exe    N/A      |\n",
      "|    0   N/A  N/A     17272    C+G   ...icrosoft VS Code\\Code.exe    N/A      |\n",
      "|    0   N/A  N/A     17320    C+G   ...qxf38zg5c\\Skype\\Skype.exe    N/A      |\n",
      "|    0   N/A  N/A     17448    C+G   ...me\\Application\\chrome.exe    N/A      |\n",
      "|    0   N/A  N/A     18020    C+G   ...ropbox\\Client\\Dropbox.exe    N/A      |\n",
      "|    0   N/A  N/A     18412    C+G   ...obeNotificationClient.exe    N/A      |\n",
      "+-----------------------------------------------------------------------------+\n"
     ]
    }
   ],
   "source": [
    "!nvidia-smi"
   ]
  },
  {
   "cell_type": "code",
   "execution_count": 8,
   "metadata": {},
   "outputs": [
    {
     "name": "stdout",
     "output_type": "stream",
     "text": [
      "device 0 is  <torch.cuda.device object at 0x00000239D35DD9D0>\n",
      "device 1 is  <torch.cuda.device object at 0x00000239D35E4460>\n"
     ]
    }
   ],
   "source": [
    "print('device 0 is ', torch.cuda.device('cuda:0'))\n",
    "print('device 1 is ', torch.cuda.device('cuda:1'))"
   ]
  }
 ],
 "metadata": {
  "interpreter": {
   "hash": "cc1b1c9b257fc8014d968e6a5c17774483cbc9201995df8261e8b19db7e7b46a"
  },
  "kernelspec": {
   "display_name": "Python 3.8.8 64-bit ('base': conda)",
   "language": "python",
   "name": "python3"
  },
  "language_info": {
   "codemirror_mode": {
    "name": "ipython",
    "version": 3
   },
   "file_extension": ".py",
   "mimetype": "text/x-python",
   "name": "python",
   "nbconvert_exporter": "python",
   "pygments_lexer": "ipython3",
   "version": "3.8.8"
  },
  "orig_nbformat": 4
 },
 "nbformat": 4,
 "nbformat_minor": 2
}
