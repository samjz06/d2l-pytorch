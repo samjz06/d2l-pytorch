{
 "cells": [
  {
   "cell_type": "code",
   "execution_count": 2,
   "metadata": {},
   "outputs": [
    {
     "name": "stdout",
     "output_type": "stream",
     "text": [
      "1.9.0\n"
     ]
    }
   ],
   "source": [
    "import torch\n",
    "import torch.nn as nn\n",
    "\n",
    "print(torch.__version__)"
   ]
  },
  {
   "cell_type": "markdown",
   "metadata": {},
   "source": [
    "# Difference between `nn.Module` and `nn.Sequential`\n",
    "\n",
    "*Source: Based on PyTorch 1.0.0(https://zhuanlan.zhihu.com/p/75206669)*\n",
    "\n",
    "## Official documentations of `Containers`\n",
    "- `torch.nn.Module`: \n",
    "  - Base class for all nn modules. Your model should also subclass this class.\n",
    "    ```\n",
    "        import torch.nn as nn\n",
    "        import torch.nn.functional as F\n",
    "\n",
    "        class Model(nn.Module):\n",
    "            def __init__(self):\n",
    "                super(Model, self).__init__()\n",
    "                self.conv1 = nn.Conv2d(1, 20, 5)\n",
    "                self.conv2 = nn.Conv2d(20, 20, 5)\n",
    "\n",
    "            def forward(self, x):\n",
    "                x = F.relu(conv1(x))\n",
    "                return F.relu(conv2(x))\n",
    "    ```\n",
    "- `torch.nn.Sequential(*args)`: \n",
    "  - A sequential container. Modules will be added to it in the order they are passed in the constructor(forward computation). \n",
    "  - Alternatively, an ordered dict of modules can also be passed in.\n",
    "    ```\n",
    "        # 1. Example of using Sequential\n",
    "        model = nn.Sequential(\n",
    "            nn.Conv2d(1, 20, 5),\n",
    "            nn.ReLU(),\n",
    "            nn.Conv2d(20, 64, 5),\n",
    "            nn.ReLU()\n",
    "            )\n",
    "        \n",
    "        # 2. Example of using Sequential with OrderedDict\n",
    "        model = nn.Sequential(OrderedDict([\n",
    "            ('conv1', nn.Conv2d(1, 20, 5)),\n",
    "            ('ReLU1', nn.ReLU()),\n",
    "            ('conv2', nn.Conv2d(20, 64, 5)),\n",
    "            ('ReLU2', nn.ReLU())\n",
    "            ]))\n",
    "    ```\n",
    "- `torch.nn.ModuleList(modules=None)`:\n",
    "  - Holds submodules in a list.\n",
    "\n"
   ]
  }
 ],
 "metadata": {
  "interpreter": {
   "hash": "cc1b1c9b257fc8014d968e6a5c17774483cbc9201995df8261e8b19db7e7b46a"
  },
  "kernelspec": {
   "display_name": "Python 3.8.8 64-bit ('base': conda)",
   "language": "python",
   "name": "python3"
  },
  "language_info": {
   "codemirror_mode": {
    "name": "ipython",
    "version": 3
   },
   "file_extension": ".py",
   "mimetype": "text/x-python",
   "name": "python",
   "nbconvert_exporter": "python",
   "pygments_lexer": "ipython3",
   "version": "3.8.8"
  },
  "orig_nbformat": 4
 },
 "nbformat": 4,
 "nbformat_minor": 2
}
